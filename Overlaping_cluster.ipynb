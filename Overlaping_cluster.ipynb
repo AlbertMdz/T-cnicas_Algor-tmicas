{
  "nbformat": 4,
  "nbformat_minor": 0,
  "metadata": {
    "colab": {
      "name": "Overlaping_cluster.ipynb",
      "provenance": [],
      "include_colab_link": true
    },
    "kernelspec": {
      "name": "python3",
      "display_name": "Python 3"
    }
  },
  "cells": [
    {
      "cell_type": "markdown",
      "metadata": {
        "id": "view-in-github",
        "colab_type": "text"
      },
      "source": [
        "<a href=\"https://colab.research.google.com/github/AlbertMdz/T-cnicas_Algor-tmicas/blob/master/Overlaping_cluster.ipynb\" target=\"_parent\"><img src=\"https://colab.research.google.com/assets/colab-badge.svg\" alt=\"Open In Colab\"/></a>"
      ]
    },
    {
      "cell_type": "code",
      "metadata": {
        "id": "kLsqAdmLzhAj",
        "colab_type": "code",
        "outputId": "d1b0d3eb-cae3-4b41-bd4e-f0fd79c032e4",
        "colab": {
          "base_uri": "https://localhost:8080/",
          "height": 295
        }
      },
      "source": [
        "import numpy as np\n",
        "import matplotlib.pyplot as plt\n",
        "from sklearn.cluster import KMeans\n",
        "\n",
        "\n",
        "\n",
        "np.random.seed(5)\n",
        "\n",
        "# initializing centers of the three clusters manually\n",
        " \n",
        "centers = [[1, 1], [-1, -1], [1, -1]]\n",
        "\n",
        "\n",
        "''' taking the parameters for the three clusters as initialization - following \n",
        "saome gaussian distribution '''\n",
        "\n",
        "# Try playing with mean and variance values to see how well KMeans algo clusterst the data\n",
        "mu1 = [1, 1]\n",
        "sig1 = [ [1, 0], [0, 2] ]\n",
        "\n",
        "mu2 = [3, 2]\n",
        "sig2 = [ [1, 0], [0, 2] ]\n",
        "\n",
        "\n",
        "\n",
        "''' sampling points (x,y) from three diff gaussian distributions '''\n",
        "\n",
        "X1, y1 = np.random.multivariate_normal(mu1, sig1, 100).T\n",
        "X2, y2 = np.random.multivariate_normal(mu2, sig2, 100).T\n",
        "\n",
        "\n",
        "x = np.concatenate((X1, X2))\n",
        "xverde= np.array(X1)\n",
        "xazul= np.array(X2)\n",
        "y = np.concatenate((y1, y2))\n",
        "yverde= np.array(y1)\n",
        "yazul= np.array(y2)\n",
        "\n",
        "x= x.reshape(200,1)\n",
        "xverde=xverde.reshape(100,1)\n",
        "xazul=xazul.reshape(100,1)\n",
        "\n",
        "y= y.reshape(200,1)\n",
        "yverde=yverde.reshape(100,1)\n",
        "yazul=yazul.reshape(100,1)\n",
        "\n",
        "\n",
        "X = np.column_stack((x,y)) \n",
        "n=len(x)\n",
        "x= np.array(x)\n",
        "y= np.array(y)\n",
        "sumx = sum(x)\n",
        "sumy = sum(y)\n",
        "sumx2 =sum(x*x)\n",
        "sumy2=sum(y*y)\n",
        "sumxy =sum(x*y)\n",
        "promediox = sumx/n\n",
        "promedioy = sumy/n\n",
        "m= (sumx* sumy - n*sumxy)/(sumx**2 - n*sumx2)\n",
        "b= promedioy - m* promediox\n",
        "plt.plot(x,y, 'o', label='Datos' )\n",
        "plt.plot(x, m*x +b, label='Ajuste')\n",
        "plt.xlabel('x')\n",
        "plt.ylabel('y')\n",
        "plt.title('Regresión lineal antes de K-means')\n",
        "plt.grid()\n",
        "plt.legend()\n",
        "plt.show()"
      ],
      "execution_count": 0,
      "outputs": [
        {
          "output_type": "display_data",
          "data": {
            "image/png": "[encoded data removed]",
            "text/plain": [
              "<Figure size 432x288 with 1 Axes>"
            ]
          },
          "metadata": {
            "tags": []
          }
        }
      ]
    },
    {
      "cell_type": "code",
      "metadata": {
        "id": "0Aov_RIMznR5",
        "colab_type": "code",
        "outputId": "d7e0b29a-d74c-404d-f1e8-6209c1a36a45",
        "colab": {
          "base_uri": "https://localhost:8080/",
          "height": 295
        }
      },
      "source": [
        "plt.plot(xverde,yverde, 'o',c='green' ,label='Cluster 1' )\n",
        "plt.plot(xazul,yazul, '+',c='blue' ,label='Cluster 2' )\n",
        "plt.plot(x, m*x +b, label='Ajuste')\n",
        "plt.xlabel('x')\n",
        "plt.ylabel('y')\n",
        "plt.title('Regresión lineal antes de K-means')\n",
        "plt.grid()\n",
        "plt.legend()\n",
        "plt.show()"
      ],
      "execution_count": 0,
      "outputs": [
        {
          "output_type": "display_data",
          "data": {
            "image/png": "[encoded data removed]",
            "text/plain": [
              "<Figure size 432x288 with 1 Axes>"
            ]
          },
          "metadata": {
            "tags": []
          }
        }
      ]
    },
    {
      "cell_type": "code",
      "metadata": {
        "id": "2TaNh_yIztCq",
        "colab_type": "code",
        "outputId": "8b1412d7-5157-469f-cfb7-c7f339eed2e3",
        "colab": {
          "base_uri": "https://localhost:8080/",
          "height": 34
        }
      },
      "source": [
        "sigmax= np.sqrt(sumx2/n - promediox**2)\n",
        "sigmay= np.sqrt(sumy2/n - promedioy**2)\n",
        "sigmaxy= sumxy/n - promediox*promedioy\n",
        "w= (sigmaxy/ (sigmax*sigmay))**2\n",
        "w"
      ],
      "execution_count": 0,
      "outputs": [
        {
          "output_type": "execute_result",
          "data": {
            "text/plain": [
              "array([0.04762985])"
            ]
          },
          "metadata": {
            "tags": []
          },
          "execution_count": 9
        }
      ]
    },
    {
      "cell_type": "code",
      "metadata": {
        "id": "WuAnjc0KHfwz",
        "colab_type": "code",
        "outputId": "29289ba6-c4ae-4010-85fe-53bef7549f65",
        "colab": {
          "base_uri": "https://localhost:8080/",
          "height": 1000
        }
      },
      "source": [
        "x= x.reshape(200)\n",
        "y= y.reshape(200)\n",
        "X= np.array(list(zip(x,y)))\n",
        "\n",
        "kmeans= KMeans (n_clusters=2)\n",
        "kmeans= kmeans.fit(X)\n",
        "labels= kmeans.predict(X)\n",
        "centroids= kmeans.cluster_centers_\n",
        "colors=[\"g.\", \"b.\",\"y\",\"k\"]\n",
        "\n",
        "for i in range(len(X)):\n",
        "  #print(\"Coordenada: \",X[i],\"Label:\", labels[i])\n",
        "  print(labels[i],\",\")\n",
        "  plt.plot(X[i][0],X[i][1], colors[labels[i]], markersize=10)\n",
        "plt.scatter(centroids[:,0],centroids[:,1],marker=\"x\",s=200,linewidths=5, zorder=10)\n",
        "#plt.plot(xverde,yverde, '+',c='green' ,label='Cluster 1' )\n",
        "#plt.plot(xazul,yazul, '+',c='blue' ,label='Cluster 2' )\n",
        "plt.plot(x, m*x +b, label='Ajuste')\n",
        "plt.xlabel('x')\n",
        "plt.ylabel('y')\n",
        "plt.title('Regresión lineal despues de aplicas Kmeans')\n",
        "plt.grid()\n",
        "plt.legend()\n",
        "plt.show()"
      ],
      "execution_count": 0,
      "outputs": [
        {
          "output_type": "stream",
          "text": [
            "0 ,\n",
            "1 ,\n",
            "1 ,\n",
            "0 ,\n",
            "0 ,\n",
            "0 ,\n",
            "0 ,\n",
            "0 ,\n",
            "1 ,\n",
            "0 ,\n",
            "0 ,\n",
            "0 ,\n",
            "1 ,\n",
            "0 ,\n",
            "0 ,\n",
            "0 ,\n",
            "0 ,\n",
            "0 ,\n",
            "1 ,\n",
            "1 ,\n",
            "0 ,\n",
            "0 ,\n",
            "1 ,\n",
            "1 ,\n",
            "0 ,\n",
            "1 ,\n",
            "0 ,\n",
            "0 ,\n",
            "1 ,\n",
            "1 ,\n",
            "0 ,\n",
            "0 ,\n",
            "0 ,\n",
            "1 ,\n",
            "0 ,\n",
            "0 ,\n",
            "1 ,\n",
            "0 ,\n",
            "1 ,\n",
            "0 ,\n",
            "1 ,\n",
            "1 ,\n",
            "1 ,\n",
            "0 ,\n",
            "0 ,\n",
            "1 ,\n",
            "0 ,\n",
            "0 ,\n",
            "0 ,\n",
            "1 ,\n",
            "1 ,\n",
            "0 ,\n",
            "1 ,\n",
            "0 ,\n",
            "0 ,\n",
            "0 ,\n",
            "1 ,\n",
            "0 ,\n",
            "1 ,\n",
            "0 ,\n",
            "1 ,\n",
            "0 ,\n",
            "0 ,\n",
            "0 ,\n",
            "0 ,\n",
            "0 ,\n",
            "0 ,\n",
            "1 ,\n",
            "1 ,\n",
            "1 ,\n",
            "1 ,\n",
            "1 ,\n",
            "0 ,\n",
            "0 ,\n",
            "0 ,\n",
            "1 ,\n",
            "0 ,\n",
            "0 ,\n",
            "1 ,\n",
            "0 ,\n",
            "0 ,\n",
            "0 ,\n",
            "0 ,\n",
            "0 ,\n",
            "0 ,\n",
            "0 ,\n",
            "1 ,\n",
            "0 ,\n",
            "0 ,\n",
            "1 ,\n",
            "0 ,\n",
            "0 ,\n",
            "0 ,\n",
            "0 ,\n",
            "0 ,\n",
            "1 ,\n",
            "1 ,\n",
            "0 ,\n",
            "0 ,\n",
            "1 ,\n",
            "1 ,\n",
            "0 ,\n",
            "1 ,\n",
            "1 ,\n",
            "1 ,\n",
            "0 ,\n",
            "1 ,\n",
            "1 ,\n",
            "1 ,\n",
            "0 ,\n",
            "1 ,\n",
            "1 ,\n",
            "1 ,\n",
            "1 ,\n",
            "1 ,\n",
            "1 ,\n",
            "1 ,\n",
            "1 ,\n",
            "0 ,\n",
            "0 ,\n",
            "1 ,\n",
            "1 ,\n",
            "1 ,\n",
            "0 ,\n",
            "1 ,\n",
            "1 ,\n",
            "1 ,\n",
            "1 ,\n",
            "1 ,\n",
            "1 ,\n",
            "1 ,\n",
            "1 ,\n",
            "1 ,\n",
            "1 ,\n",
            "1 ,\n",
            "1 ,\n",
            "0 ,\n",
            "1 ,\n",
            "1 ,\n",
            "1 ,\n",
            "1 ,\n",
            "1 ,\n",
            "1 ,\n",
            "1 ,\n",
            "0 ,\n",
            "0 ,\n",
            "0 ,\n",
            "1 ,\n",
            "1 ,\n",
            "1 ,\n",
            "1 ,\n",
            "1 ,\n",
            "1 ,\n",
            "1 ,\n",
            "1 ,\n",
            "1 ,\n",
            "1 ,\n",
            "1 ,\n",
            "1 ,\n",
            "0 ,\n",
            "1 ,\n",
            "1 ,\n",
            "0 ,\n",
            "1 ,\n",
            "1 ,\n",
            "1 ,\n",
            "1 ,\n",
            "1 ,\n",
            "1 ,\n",
            "0 ,\n",
            "1 ,\n",
            "1 ,\n",
            "1 ,\n",
            "1 ,\n",
            "1 ,\n",
            "1 ,\n",
            "1 ,\n",
            "1 ,\n",
            "1 ,\n",
            "1 ,\n",
            "1 ,\n",
            "1 ,\n",
            "1 ,\n",
            "1 ,\n",
            "1 ,\n",
            "0 ,\n",
            "1 ,\n",
            "1 ,\n",
            "1 ,\n",
            "1 ,\n",
            "1 ,\n",
            "1 ,\n",
            "1 ,\n",
            "1 ,\n",
            "0 ,\n",
            "1 ,\n",
            "1 ,\n",
            "1 ,\n",
            "1 ,\n",
            "1 ,\n"
          ],
          "name": "stdout"
        },
        {
          "output_type": "display_data",
          "data": {
            "image/png": "[encoded data removed]",
            "text/plain": [
              "<Figure size 432x288 with 1 Axes>"
            ]
          },
          "metadata": {
            "tags": []
          }
        }
      ]
    },
    {
      "cell_type": "code",
      "metadata": {
        "id": "CeUQYJbAXokH",
        "colab_type": "code",
        "outputId": "3e873689-4d9d-429d-c47a-9662940bd6dc",
        "colab": {
          "base_uri": "https://localhost:8080/",
          "height": 300
        }
      },
      "source": [
        "import pandas as pd\n",
        "import seaborn as sn\n",
        "\n",
        "data = {'y_Predicted': [0, 0, 0, 0, 0, 0, 0, 0, 0, 0,0, 0, 0, 0, 0, 0, 0, 0, 0, 0,0, 0, 0, 0, 0, 0, 0, 0, 0, 0,0, 0, 0, 0, 0, 0, 0, 0, 0, 0,0, 0, 0, 0, 0, 0, 0, 0, 0, 0,0, 0, 0, 0, 0, 0, 0, 0, 0, 0,0, 0, 0, 0, 0, 0, 0, 0, 0, 0,0, 0, 0, 0, 0, 0, 0, 0, 0, 0,0, 0, 0, 0, 0, 0, 0, 0, 0, 0,0, 0, 0, 0, 0, 0, 0, 0, 0, 0, 1, 1, 1, 1, 1, 1, 1, 1, 1, 1,1, 1, 1, 1, 1, 1, 1, 1, 1, 1,1, 1, 1, 1, 1, 1, 1, 1, 1, 1,1, 1, 1, 1, 1, 1, 1, 1, 1, 1,1, 1, 1, 1, 1, 1, 1, 1, 1, 1,1, 1, 1, 1, 1, 1, 1, 1, 1, 1,1, 1, 1, 1, 1, 1, 1, 1, 1, 1,1, 1, 1, 1, 1, 1, 1, 1, 1, 1,1, 1, 1, 1, 1, 1, 1, 1, 1, 1,1, 1, 1, 1, 1, 1, 1, 1, 1, 1,],\n",
        "        'y_Actual':    [0 , 1 , 1 , 0 , 0 , 0 , 0 , 0 , 1 , 0 , 0 , 0 , 1 , 0 , 0 , 0 , 0 , 0 , 1 , 1 , 0 , 0 , 1 , 1 , 0 , 1 , 0 , 0 , 1 , 1 , 0 , 0 , 0 , 1 , 0 , 0 , 1 , 0 , 1 , 0 , 1 , 1 , 1 , 0 , 0 , 1 , 0 , 0 , 0 , 1 , 1 , 0 , 1 , 0 , 0 , 0 , 1 , 0 , 1 , 0 , 1 , 0 , 0 , 0 , 0 , 0 , 0 , 1 , 1 , 1 , 1 , 1 , 0 , 0 , 0 , 1 , 0 , 0 , 1 , 0 , 0 , 0 , 0 , 0 , 0 , 0 , 1 , 0 , 0 , 1 , 0 , 0 , 0 , 0 , 0 , 1 , 1 , 0 , 0 , 1 , 1 , 0 , 1 , 1 , 1 , 0 , 1 , 1 , 1 , 0 , 1 , 1 , 1 , 1 , 1 , 1 , 1 , 1 , 0 , 0 , 1 , 1 , 1 , 0 , 1 , 1 , 1 , 1 , 1 , 1 , 1 , 1 , 1 , 1 , 1 , 1 , 0 , 1 , 1 , 1 , 1 , 1 , 1 , 1 , 0 , 0 , 0 , 1 , 1 , 1 , 1 , 1 , 1 , 1 , 1 , 1 , 1 , 1 , 1 , 0 , 1 , 1 , 0 , 1 , 1 , 1 , 1 , 1 , 1 , 0 , 1 , 1 , 1 , 1 , 1 , 1 , 1 , 1 , 1 , 1 , 1 , 1 , 1 , 1 , 1 , 0 , 1 , 1 , 1 , 1 , 1 , 1 , 1 , 1 , 0 , 1 , 1 , 1 , 1 , 1]\n",
        "        }\n",
        "\n",
        "df = pd.DataFrame(data, columns=['y_Actual','y_Predicted'])\n",
        "confusion_matrix = pd.crosstab(df['y_Actual'], df['y_Predicted'], rownames=['Valos Verdadero'], colnames=['Bien coloreadas'], margins = True)\n",
        "\n",
        "sn.heatmap(confusion_matrix, annot=True)\n"
      ],
      "execution_count": 0,
      "outputs": [
        {
          "output_type": "execute_result",
          "data": {
            "text/plain": [
              "<matplotlib.axes._subplots.AxesSubplot at 0x7f3f13b42828>"
            ]
          },
          "metadata": {
            "tags": []
          },
          "execution_count": 13
        },
        {
          "output_type": "display_data",
          "data": {
            "image/png": "[encoded data removed]",
            "text/plain": [
              "<Figure size 432x288 with 2 Axes>"
            ]
          },
          "metadata": {
            "tags": []
          }
        }
      ]
    },
    {
      "cell_type": "code",
      "metadata": {
        "id": "t9P7HrUfLq5U",
        "colab_type": "code",
        "colab": {}
      },
      "source": [
        ""
      ],
      "execution_count": 0,
      "outputs": []
    }
  ]
}