{
  "nbformat": 4,
  "nbformat_minor": 0,
  "metadata": {
    "colab": {
      "name": "SVM_2.ipynb",
      "provenance": [],
      "include_colab_link": true
    },
    "kernelspec": {
      "name": "python3",
      "display_name": "Python 3"
    }
  },
  "cells": [
    {
      "cell_type": "markdown",
      "metadata": {
        "id": "view-in-github",
        "colab_type": "text"
      },
      "source": [
        "<a href=\"https://colab.research.google.com/github/AlbertMdz/T-cnicas_Algor-tmicas/blob/master/SVM_2.ipynb\" target=\"_parent\"><img src=\"https://colab.research.google.com/assets/colab-badge.svg\" alt=\"Open In Colab\"/></a>"
      ]
    },
    {
      "cell_type": "code",
      "metadata": {
        "id": "VYu8r7S5lY3P",
        "colab_type": "code",
        "colab": {}
      },
      "source": [
        "import numpy as np\n",
        "import cvxopt\n",
        "from sklearn.datasets.samples_generator import make_blobs\n",
        "from sklearn.model_selection import train_test_split\n",
        "from matplotlib import pyplot as plt\n",
        "from sklearn.svm import LinearSVC\n",
        "from sklearn.metrics import confusion_matrix\n",
        "\n",
        "def f(x, w, b, c=0):\n",
        "    return (-w[0] * x - b + c) / w[1]"
      ],
      "execution_count": 0,
      "outputs": []
    },
    {
      "cell_type": "markdown",
      "metadata": {
        "id": "R7CP09ngn8EK",
        "colab_type": "text"
      },
      "source": [
        "# **Quadratic Programming**"
      ]
    },
    {
      "cell_type": "markdown",
      "metadata": {
        "id": "naQeuRo9nvnD",
        "colab_type": "text"
      },
      "source": [
        "![image.png](data:image/png;base64,iVBORw0KGgoAAAANSUhEUgAAAiIAAAA9CAYAAACQqwJNAAAABHNCSVQICAgIfAhkiAAAGQlJREFUeF7tnV/obcdVx5MYQUsDIUha+yDS+lJSqtaC0LSQJkEUFel9EGtKs6FosUXyYig+5KEGKWKFFqlBRPmJQh8CaQMR74OaQEmftJbLhYI2JfQhvQ0SCvUhYKGuz7173a4s1uw9M2fOOfucuwbW3XvPn/XnO2vWzJ45+3dvvy1TIpAIrCHwklS4IvRNoUtz5Wfk+nNCDwvdtcZgw+WHsu0Qcr4kOP+10OUN4z1CtUNgOULPVh7naleEw7nYei52RH2UeQ0IvFXq/nlD/aWqzy8VBmW1ckfqGKix16xJuEOaGHjWbia/U02TKA5p2tW2kj+MlmNUfsPt38rTr5YK5/xT9kVMOBSWKzAOL96HXSV/HK58I8N92NqowpDq52LHEDBudSati4cSXu+RgtZJlaBeI7+mTkmvfeajP5PXf862Yz/PJPDg3gez/5vL5mq3/ZHenMCVfrAT9WjbSv7QK4f++L7QD4XQnWeIexZNftGBHHRYSlv1RXS+lfxx376oeB6jv/FL/BO/jfyxdzws+fW+yoiDagv3Np2SHdX4YBRBZ1QazW+UXiP5YOMUMMT5yf+ukA/WQfXrWQT4yNGYjDXwR5Mued4hrYySjiU9DpWP3uAzOYE6meKLvgx8WIicYsIPCIxRH2LPKNvW/KFVDkGQhaJPyNFAD0/6UheU3Edpq76IrreSPx7KFxXXpfgU+cmIvEmY1MSK1vEwQrdWHtpfS+1OwY4l/W+W0XFRwKlqHFQazS8QcfSsKODiECwe1HlqFyIEfJvgYVfz3BP4o0Ed6aG8lsqcyKbH6E2jlgG2sdAo8ZikDFt9wnaPk68z6rmkWy9/bMYmrlEaadtSn7fKKflc5I/w9otpa+uSXhEmLXm79NfW/XEX2yIMD+mLyN9nv0f2kceLXc181joeSvL2mV+jY02dfeqYvI+EwNqbJ2oRxGsWItTxExQTtW/Lzki0a8WgmxDoUo2Ovk3tM44/1VY29fRNemnConoUvAgsHqcOFaqa9NoXMYcXkwlvaPRVlEbaVvIH5LbIWVpMR2/VS3L36YvY1dtfp+CPvbZFfnZoX0SHJb+IdByRR/zA1rXUMh7WeO2rvEbHmjpF/e4olmTB1hH4A1Hwi4OU/JTw+YLj9RPy/JDL+548vzmQ+azkPRrkj9QxYN+V9Rlp9WWhr620/mpQzlcyTwf5W85iAUJQvCb0mtDPFpQdaVvJHxDdIkf973KgMz77A6F/NGV3B/U0a4u+iG63kj8ewxfBeMkfF1xmp6J7pXVNfG4ZDzsptEPjd0nbr6y039kO3iwIVLw985bIKo5VOm+/XHEe8iBWPZOQT1rO2yKrT5soYzsb/lxJep7E2zX10UHr6JvqLnpF/HQrF3lqIzL9OZ7awhUMRm9LCsshyesdMa3dEdF+iXjYPOpFOwXUiXZK1nTEXyCwpt/BuzbRZqqtPNdDlvp5Y9PrfkDbmoQd2M74IeGPazswc9Wblx77PA+esVkT4zfqvxrbJmmrY8KwvBkrbB73kT/UyLF80DfyTXQBX3C1ibFNWZT26YvI6+mvU/HHHtuiPjiWL6JL5I+RjiPyJmGi/qk7cfiyTy3jYURM8fJrnolbxD3sgOhDjWvavsaOSSqvxg9lREVNDHLAtHkw8wPaK8ZzBDoBxS5SqGMnedXBBuxd9PL8dJGl9inA2KQJ/ayOYHBIBzaqrN7W6FWzEJlEku3jkmDFywd/rR9N0ks64g/WoUuTTkmfnuCIPtFEXJKh+chCPx0P1m99WztYsZHxYAOwr1967rHP86KvbH8RzHyf1NiGveojfgGgNnrZ3h9q5HgeyII/bSEdn1yjPgDnkn96u62sXX0RXj39dSr+2GObxZf7Y/oi8r0/ev1GPuOf0TjRMYSslvEwKqb02IieYGfnZWzT8VdjR1P8QNhkNNWJPMqzBgE6QVoTDhd1OvwwYBIiYESBxBsMz169tK0C6AcCE5JddKi9/s3VOxR8j53QsWZCBbtSYFYb6LuoL7yNyPMrYVvHOif5SzrS/wR/m0oTmqt287EnOIKH9dUS713yrf/YAdjKs8c+L8MGPsrAPRqbvp1/nuaMaGyXxof3B89z7Tl6UVhrg71+/NJm376IjJ7+OhV/7LHN99UxfRFddvVHb8/Ss59bqMuic1pqtFA2KqYsiCgWES/tPElFnceLjVzBND8X48edrsEV83xtvrd5WkyA1fIPmTYApue6jvX1+r8n9DfzVdv7etFzj16ez2WTocBa3T8ylz8oV0jT63LDGZltb4p3up2k9ROVHPhLno/PdTl/HJnW+gK8CCSfXRAKTjYt6fhRqfg5V//t8vzJAv/nJd+f/79trvuYa/OyPNt+9SxLvw3BRmQ8IPSq0HNCH/ONK56VP2MBP9I+W2o60j6VQ39xbmuDyLuXlFgou5jLPi7Xr5t6BBZiSDQ2vD8ssA+LPjznXoSlcSYTwCtB0UhfhP3I/tqaP460Tbvi2L6IHmv+OEmdnlgcuNtt+NuTroDf1kXjJGrv83piyih7mPs+bxR6q9wz5tfmDGvDxfxQFT9Ynfu3CfIQrIl7n0cbXTVNch+terQ9dXnz9W/DWl7SoUcveEb80NHmq30MFvJPIaHz0laz2oA99Ecp6blfqZx8cFnaCdG2rJJtKulIX/p+WfIZx/bmY89bGjr61b3XGd1q7C3pRf4ktIT7Ulst67FP24J9ZAN6eexrdNE6/q0u2tnSut4fWuRQl5hSs+tXw3ffvogOPf11Kv7YY5v2yxZ8EV129ccaP6POFMgCv119Gb67xpRaG7ReNN8TV3rnyar4EQUo8nSiRrlIMTrYBj2daKjvgSNwkegUvZ+zrl9KOoxaiKA/+uIYmtCdfNXb2qt1ojzD4ii3NQNrbSFCsF9KkxT6CS3qN3hE+kR50aIDnq0DtSc4Pr8iB569g0xxBC/vr9bftN7atcc+5VnqI/VxPy7XdNFyHw94oSjJivq+Vg71CFpLi8YWXtSN9Bnli/Dv6a9T8cce27R/Sv5xSF8s9X+rD9XUx2d9XGWcaAyYapi4OqNiSqto+siPG2wr9eka/2L8WPp8Vydf3QKPhFCHbZqrplCPNSizxzQYoFvdPy/3bM9Ppl3tbY1eJV7/LAXfFrLb5Y/I8zUhtr9eEHrKNfYTsSs+2iOfYtYskEp1SvlqEEH6UaH/EZpmAguOUHzCYcHVp0hHtvb57FITbfGF6HNZz2/X5w8KgzcJRRMc9l4S4limN4HP/UIMVGgSIgjVfMbXK9O3I+CBe5T02ILt1t7EWCHRb/jC0wGjkj8EVcMs2rOV/WJY2pe5NV/EinP3xy34Ijjv6o8tHvc+qfwvrgHjhBjQ8wJwzJjCnPi6sWWSe9YDOo87M6sei/EDcFgksFohaE5CUR75lFOP+goqzsbKnquu3AjCBPtJiHvebminbbiy0oJo+7tCVgfKIx2ivEnqer18PZ7RDR3QB125ItOv+LSMK6Q6y+2mEvpHiyQWGGCvmOgPp7wd2DYtWAQu4OWJ/vJJsfL5JR3RGx25ar9MvvHK85r+S82179GBe6tnqx5WjvYHfYDP+63IJZ18Wat9BFsdQ/S5X2hily2Hf2uiDZjpFd+IUskforo+D/7oD2/0jXzct6l53qcvIr+1v6zOW/fHVtu25IvaNz3+XuNXvg5j3o89HTM9vjwypnhda54nqaT646e7pNr4sYuMbHtgBHSw94ploTIqwcsPPnjX6Eid0oS2pF9rcFzitcWyrdtHUIoWpWBZ8odj4rxPX8SurffXLthv3bYlX9yqP+7SH+fQdq3PzsHGW8aG3oBPUC5NIq3grfFa05Eg1/r7EHRk4RMtflr132r9rdlHH00GLHbM6Huf1vzB1z/k8758ERu21l8jcd2abbW+CAZb9seRfbR1Xi19tnVbUj+HAIOMbbPWxGrUH9W08tD6awuaNR3Zfl/j0atbthuHAP1k+7y01b3lvkxfHOcPx+RU64vouGV/PCaGh5bd0meH1i3lDUBgEh6tZ4+8GY5ITEY1C5pIR50UOJZhtdxqwwj9k0c9AvQ1xCK21Fe1/lAvdXzNKdA/fXE8zvvkWOOLyD8Ff9wnTlviXdtnW9I5dWlEoPWIItpSbxR5vXqL3Ja6Pbpkm+MjcCp9fCp6Hr9HT1uD7OfT7r/UPhFIBBKBRCARSAQSgf0jcPv+RaSEM0KAI50rQt8UujTb9Yxc+VPiDwvddcK2nrNtJ9wtqXoikAgkAolAInADgUkukCYmbvuDxZ4fzRp2R73FLkjTOdl2VGBTeCKQCCQCiUAiMAoBu+iAp/98s/QDxlHy98nnnG3bJ24tvDmv9zi3tNe6I3j0yM02iUAisHEEJtFP/xrixlVN9QIEmCT4GoJPrNjZgHgm8cNWvZ+zruf5v0irZadw5ZO+0tc+p27bVvFf+owSf9O/vkw99UHu2Z2yfYWvLvHaqv2pVyKQCBwAAYIFn2LWJgKPn+Bq25bq9X4N0tuupMcp5bOT4f/YDPprwI/+TDlvpUwQp5jUT0s7OKds21b7A0ynFeXwJ/u3BrQ6/URcsV9AkJc7IyuAZnEicCsiQKBoWYjwVlOaDHrx613Y9Lbr1XNku10+UcPu6P9GUP2mQp8yYRwKs13si3BGb/y0pP8hbYv0O8e8mr+cS59EiwuNK76shuc5Ypk2JQKJwAICrQuRBVbdRb1v6b3tuhUd2LDmbTMSp2+aa7tBUcBn8VI62ohk7ZLXa18kE174KcdKbP9H6VC2oQf66PEDPgiNXpxHNh4yr2b3QnepIp8q7WDRf9MhDUlZiUAisH0Ejr0Q0Ym1Fanedq1y9lW/d6Jemoytrn7CPnQ/99rn8UZvneRZXEXHAIeyDZtYdExCyDyl1Kovdq4tdsGjtJvKQg1f9XInyaMsUyKQCJw4AnfO+hMI9M33LXLP34T4RSHeRr4g9HahXxL6mtAk9GdC9wr9tNA1IZto85AQ/O4Xelbo4g01bkwC75K8q0LI0YQemt4rNx8Wsvwnef4tIf6OxT1CTwtdFiL/14VIOnG+KPefnfNKl0kK1toxeb1T6DUhZH5F6EJoZNJjAmR8UegvhD44UoDjhTz6/skKGR8ydegffOMHQtyjp+9/z5LJ4v1CfyxEf+AfrwrhS4dMfyrCPjYLfEWub3PCa22bpN19Qvin7SP8BF9a6zfk8HdX3iHUmiZpwNjDD39ZiPHxUaFfE1I84U+iDmT7D+z/Xoixy3imPeP0EaHPC10I2cRYwidJ8OL+G0KMa+Wr8qgTjdmfkfy1vsanvgUDlyZ5xnd+U8j72YXk/aVvkM+JQCJwmghMorZ/67Vvi7zN8LZi32o0z76l6NukvnUqGgQ6n0cZMu2RCM9WD4Im2+Sa4OGPUHTxRJ3et9mldkzYHhsmVht8f6Rh353fjgd7b+cSZ3SZlioEZeBqsQuqDMmiz8BQ+457qCX12Of540uQJvrQ+pavX3rGV7TveUu3POmzNdto39K3kR469lQPbFE9FGttx7Mdy+Srv1sfpr3/CsqPR/h4+3wdP2aRV4MzssEFnSDly9XGGPjZVNpF8fXyORFIBDaOAJMEk5JdaExOZ78QoZi8aCHiAwf8fZCjPUFNg7IGR6sDdWyw534ic07UJU/lKQ9Tpeq21E7zvT06EVQxX6lkMdCqYOID/hKbnomavvMT1JKM3jLbn+BoJ79anj32ed5eLvj2TGLTzJgJ17f3CxOvA8+097pE9Zby1C/tIkjrM3Hbfo30pC66T0ZI5OssIKyuYBYt/JfGLGVrC14dT1Yfo9rirR3/ixWzMBFIBLaLANvzbJc/IvQfQmy5XxXSLewRmsMPOQSc0hbtR2ZBD8oV0vS63HCEQ4LHZS2QK7x+3DyPvlWdrjnGasMk+Rc7CmVb/XOOB8dgnyzw5e33blemRwyPufyX5dluy3uWpb5gMkPGA0IcoTwn1OsPKoO+p18fF1pKI+1TOUymHIVgl6Z3LymxUHYxl31crl839ZjwvX9GbD4gmb8hdCkqnPOekuvakSJVrXxlZ/sbzB9akHPFlHkfp0iPP7XaPXLDkZamtTHLWOUIaC1xPES6WKsYlBMfMiUCicAZIUDgYveCNyq/28Ez5ZqiN6goj/q08+3Jt7sBTBb+DfOmMLmZ5nJklJLK13Krb6kN+aV2YFHSyb9RLvEvlUW4lN5gSzzI79kx4E3STsyev2ICBrumSRhEb++1fHvsU97YEdmATpFP1urEbgE8NEU7WxEv2rTsdkU8vL/aOvgU45e+RVbJnyLb/ZinPXbCE2Jnw46/tTEr1a/XXzuaQd+1XRN4RSnaaY3qZV4ikAhsHAECip+0n5c8G8B94NJJ1AYmDZA2D9PhEwUMG7wjfgob/JR3NKGpPC/fbisvdUGpXUknDe7eziUZUVk0Sfjt76idz+uZqOnfpeBfM8l4PaJn+t77Vm2/KL8e+7RtadLXvo38KbLD5/lJ+yWpUJLl21J3l6T+GvFgnNlxq3ZS19rqxzPl3ia1B35TIKw0Pqhqx0Y09i07FipLi+JA9M2sNd5LbbMsEUgENoLAHbMefP1g0/fk4arJ+F+5t9vZup36C64dj7plq0Vsx/PFxFJiC/8FIbalbdKgek0yvyzEFzxROXnUIUU62Tb+vtQOnZDpdfqU5P2dkLbz/Gqf2VrnKEwTgZ2jmq/WMtihHl92vEkomgCYsC4JcSyzS6Lv7hdiQoMmISZhvgo6RGIB81pBkB4x6LFfodpitvY//cZx2tOLtX9UiD+xEOxNehTnF8I8czxkx60ec1K2dEyjvOyXRPdIG3yBY6KLQNm1MatN6AOvq5aB3ZuF+MKtNdH2262Nsn4ikAhsDwECF2/G/y6kkz6f7xIYLht1/1DuHxW6b87717k+nwIyMV/M+UzQBEJ4wYezeVs+VwsvTI5MHkxaOoEgRwM+59+UM3lyfk2y5Tyz6PmMEEGXstpUaqcyVSfs+SehmjP8NdnYxQINezQQ0x/PrjUcVH6X8MEutsZfFlLMvyH37xCahHZN4Mck9N9Cvy2EHzGB7TMxQWEXC1IWU/4T40nyHpsVoN/x07XfrszVb17of/VDfIJkx4uvb59pi8yXhJ6c29Uuaiep/8TMDJ95Rkh1hwe8GW/4P+P634QYk08J4VcsLBgfJBZOyKedz7uYy/jdmCYWzUz8tLmYM9fGLNWeE+LlxI8Z8HvfzOeR+errzNnhhZch7M+UCCQCiUA3AkwWBONMNxDQre5WPHY5umiVdYz6W7cPP+7Z4WCBhm20ZRwo6QvBMbBWmeiGPvgkiWfu0Y3jEM2/Ubr8L3VZ7I5O6FfaaRktK/klAonAGSFAUJpme3gj6gngZwTHG0xhUlr63UbJboLxOQfkrdlHH02mM1on5lI/bimfxRX+GCXGbOtiafSigTiSsSPqncxLBBKBVQRYfOhky1vStNri1qkAHhlct9/f9u2e/ipN2Nu3pKwhRzil3UrGb8uOCFKoz9gflXKcjEIy+SQCG0Dgxw6sA78VuFvoA0L8IPZPDix/i+II0n8l9IAQPyAlHeIHq7OovDQiwG9CfkXod+Z++nRj+1Oozm+w/kuIRdZ7Z3ux+RNCvy/U+juf70ibnxR6WGhX30anfxDS34nJbaZEIBFIBBKBRCARSATWERhxhDiCx7qmWSMRSAQSgUQgEUgEEoFEIBFIBBKBRCARSAQSgUQgEUgEEoFEIBFIBBKBRCARSAQSgUQgEUgEEoFEIBFIBBKBRGAYArcP45SMDokAX9q0frmwpN8khXzJxF9X5asQ/grnxVKDLEsEEoFEIBFIBBKBWxcB/qBU6x+VKqEV/c2Inr8VUeKf+YlAIpAIJAKJQCJwhgj0/BXWCAb+cJVf1PCXNfOPRkVoZV4ikAgkAolAIpAIXEeAxQN/5XPXv6vwQ+HBrohNkzzkf7HuQMnHRCARSAQSgUTgXBFg94GJX3cmWBjU/BltPVbR//+jdVGCDBYiXhZ8yW/ld679k3YlAolAIpAIJAJniwCLD45CuHJMwj3UkvT/8mDxALGo+b5QdOxi+eqCo7QQ8fktOmXdRCARSAQSgUQgETgBBOxkzw5E63+ixgKG34twTMMCZhKCZ81uRmkhAo9op0SyMyUCiUAikAgkAuMQuHMcq+TUiYB+hsvi4UGhxyv5sNB4UegFobdUtvHVXp0z7nUFPzU/v+Ib5HMikAgkAolAIpAInB8Ck5jkfzC6ZiXHLq1tIp7sfCDfJnZZ8seqEVqZlwgkAolAIjAUgTuGcktmPQgw6V8Rumwarx3PsADxbXpk0+ZbQve5xu+U56u9DLNdIpAIJAKJQCKQCJwGAixCviRkf9/BTsfaj0RZqIzYDQGlSQiZNvk/aIY+Iz4VdmLyMRFIBBKBRCARSASOiQALERK/9+ArF2i6kXXQf9GDH7qywOFTYK8Dix6OatYWSAdVOoUlAolAIpAIJAKJQCKQCCQCiUAikAgkAolAIpAIJAKJQCKQCCQCp4dA/u+7p9dnaDwJPVGp+jNSr/aT4EqWWS0RSAQSgUQgERiDwP8DMK5d2XIUE2wAAAAASUVORK5CYII=)"
      ]
    },
    {
      "cell_type": "code",
      "metadata": {
        "id": "Ow5AVeWXnlQF",
        "colab_type": "code",
        "colab": {}
      },
      "source": [
        "class SVM:\n",
        "  \n",
        "  def fit(self, X, y):\n",
        "        n_samples, n_features = X.shape# P = X^T X\n",
        "        K = np.zeros((n_samples, n_samples))\n",
        "        for i in range(n_samples):\n",
        "            for j in range(n_samples):\n",
        "                K[i,j] = np.dot(X[i], X[j])\n",
        "                P = cvxopt.matrix(np.outer(y, y) * K)# q = -1 (1xN)\n",
        "        q = cvxopt.matrix(np.ones(n_samples) * -1)# A = y^T \n",
        "        A = cvxopt.matrix(y, (1, n_samples))# b = 0 \n",
        "        b = cvxopt.matrix(0.0)# -1 (NxN)\n",
        "        G = cvxopt.matrix(np.diag(np.ones(n_samples) * -1))# 0 (1xN)\n",
        "        h = cvxopt.matrix(np.zeros(n_samples))\n",
        "        #*******************************************************************************\n",
        "        solution = cvxopt.solvers.qp(P, q, G, h, A, b)# Lagrange multipliers\n",
        "        #*******************************************************************************\n",
        "        a = np.ravel(solution['x'])# Lagrange have non zero lagrange multipliers\n",
        "        sv = a > 1e-5\n",
        "        ind = np.arange(len(a))[sv]\n",
        "        self.a = a[sv]\n",
        "        self.sv = X[sv]\n",
        "        self.sv_y = y[sv]# Intercept\n",
        "        self.b = 0\n",
        "        for n in range(len(self.a)):\n",
        "            self.b += self.sv_y[n]\n",
        "            self.b -= np.sum(self.a * self.sv_y * K[ind[n], sv])\n",
        "        self.b /= len(self.a)# Weights\n",
        "        self.w = np.zeros(n_features)\n",
        "        for n in range(len(self.a)):\n",
        "            self.w += self.a[n] * self.sv_y[n] * self.sv[n]\n",
        "        \n",
        "  def project(self, X):\n",
        "      return np.dot(X, self.w) + self.b\n",
        "    \n",
        "    \n",
        "  def predict(self, X):\n",
        "      return np.sign(self.project(X))"
      ],
      "execution_count": 0,
      "outputs": []
    },
    {
      "cell_type": "code",
      "metadata": {
        "id": "YSkdEIV5nohS",
        "colab_type": "code",
        "colab": {}
      },
      "source": [
        "X, y = make_blobs(n_samples=2000, centers=2, cluster_std=0.60)\n",
        "y[y == 0] = -1\n",
        "tmp = np.ones(len(X))\n",
        "y = tmp * y"
      ],
      "execution_count": 0,
      "outputs": []
    },
    {
      "cell_type": "code",
      "metadata": {
        "id": "ZbYhCs8yoJ1q",
        "colab_type": "code",
        "outputId": "fa220649-2eed-4eaa-dd52-eb26726e007e",
        "colab": {
          "base_uri": "https://localhost:8080/",
          "height": 283
        }
      },
      "source": [
        "plt.scatter(X[:, 0], X[:, 1], c=y, cmap='winter')"
      ],
      "execution_count": 0,
      "outputs": [
        {
          "output_type": "execute_result",
          "data": {
            "text/plain": [
              "<matplotlib.collections.PathCollection at 0x7fe79d0f86a0>"
            ]
          },
          "metadata": {
            "tags": []
          },
          "execution_count": 76
        },
        {
          "output_type": "display_data",
          "data": {
            "image/png": "[encoded data removed]",
            "text/plain": [
              "<Figure size 432x288 with 1 Axes>"
            ]
          },
          "metadata": {
            "tags": []
          }
        }
      ]
    },
    {
      "cell_type": "code",
      "metadata": {
        "id": "1gM18wIwoNZm",
        "colab_type": "code",
        "colab": {}
      },
      "source": [
        "X_train, X_test, y_train, y_test = train_test_split(X, y, random_state=0)"
      ],
      "execution_count": 0,
      "outputs": []
    },
    {
      "cell_type": "code",
      "metadata": {
        "id": "2iQQL3nHoQXp",
        "colab_type": "code",
        "colab": {}
      },
      "source": [
        "svm = SVM()\n",
        "\n",
        "svm.fit(X_train, y_train)"
      ],
      "execution_count": 0,
      "outputs": []
    },
    {
      "cell_type": "code",
      "metadata": {
        "id": "GEUXbq0RoRCY",
        "colab_type": "code",
        "outputId": "0498c393-3119-45bd-c479-7c1884156a6e",
        "colab": {
          "base_uri": "https://localhost:8080/",
          "height": 35
        }
      },
      "source": [
        "svm.a"
      ],
      "execution_count": 0,
      "outputs": [
        {
          "output_type": "execute_result",
          "data": {
            "text/plain": [
              "array([0.05886608, 0.05886657])"
            ]
          },
          "metadata": {
            "tags": []
          },
          "execution_count": 41
        }
      ]
    },
    {
      "cell_type": "code",
      "metadata": {
        "id": "A-QaQ7AuoWXu",
        "colab_type": "code",
        "outputId": "b7240010-4de9-42aa-e8a3-55478e9ae938",
        "colab": {
          "base_uri": "https://localhost:8080/",
          "height": 285
        }
      },
      "source": [
        "plt.scatter(X_train[:, 0], X_train[:, 1], c=y_train, cmap='winter')\n",
        "\n",
        "# w.x + b = 0\n",
        "a0 = -4; a1 = f(a0, svm.w, svm.b)\n",
        "b0 = 6; b1 = f(b0, svm.w, svm.b)\n",
        "plt.plot([a0,b0], [a1,b1], 'k')\n",
        "\n",
        "# w.x + b = 1\n",
        "a0 = -4; a1 = f(a0, svm.w, svm.b, 1)\n",
        "b0 = 6; b1 = f(b0, svm.w, svm.b, 1)\n",
        "plt.plot([a0,b0], [a1,b1], 'k--')\n",
        "\n",
        "# w.x + b = -1\n",
        "a0 = -4; a1 = f(a0, svm.w, svm.b, -1)\n",
        "b0 = 6; b1 = f(b0, svm.w, svm.b, -1)\n",
        "plt.plot([a0,b0], [a1,b1], 'k--')"
      ],
      "execution_count": 0,
      "outputs": [
        {
          "output_type": "execute_result",
          "data": {
            "text/plain": [
              "[<matplotlib.lines.Line2D at 0x7fe79d62b438>]"
            ]
          },
          "metadata": {
            "tags": []
          },
          "execution_count": 42
        },
        {
          "output_type": "display_data",
          "data": {
            "image/png": "[encoded data removed]",
            "text/plain": [
              "<Figure size 432x288 with 1 Axes>"
            ]
          },
          "metadata": {
            "tags": []
          }
        }
      ]
    },
    {
      "cell_type": "code",
      "metadata": {
        "id": "CvNLZyOtojL1",
        "colab_type": "code",
        "outputId": "00ff6440-a3b3-4435-ce4e-e89e3d1c9283",
        "colab": {
          "base_uri": "https://localhost:8080/",
          "height": 52
        }
      },
      "source": [
        "y_pred = svm.predict(X_test)\n",
        "confusion_matrix(y_test, y_pred)"
      ],
      "execution_count": 0,
      "outputs": [
        {
          "output_type": "execute_result",
          "data": {
            "text/plain": [
              "array([[26,  0],\n",
              "       [ 0, 37]])"
            ]
          },
          "metadata": {
            "tags": []
          },
          "execution_count": 43
        }
      ]
    },
    {
      "cell_type": "markdown",
      "metadata": {
        "id": "lTcRbfl7qSXL",
        "colab_type": "text"
      },
      "source": [
        "#**Ejemplo 5** (Diapositivas de la clase)"
      ]
    },
    {
      "cell_type": "code",
      "metadata": {
        "id": "HeqQ19Aq-Au7",
        "colab_type": "code",
        "colab": {}
      },
      "source": [
        "X = np.array([(-1,-1),(1,-1),(-1,1),(1,1)])\n",
        "y = np.array([-1,-1,-1,1])\n",
        "y[y == 0] = -1\n",
        "tmp = np.ones(len(X))\n",
        "y = tmp * y"
      ],
      "execution_count": 0,
      "outputs": []
    },
    {
      "cell_type": "code",
      "metadata": {
        "id": "429LubcdqrFx",
        "colab_type": "code",
        "outputId": "7ea6ad37-5bed-4bed-e97c-e93cefedb77e",
        "colab": {
          "base_uri": "https://localhost:8080/",
          "height": 283
        }
      },
      "source": [
        "plt.scatter(X[:, 0], X[:, 1], c=y, cmap='winter')"
      ],
      "execution_count": 0,
      "outputs": [
        {
          "output_type": "execute_result",
          "data": {
            "text/plain": [
              "<matplotlib.collections.PathCollection at 0x7fe79da72828>"
            ]
          },
          "metadata": {
            "tags": []
          },
          "execution_count": 45
        },
        {
          "output_type": "display_data",
          "data": {
            "image/png": "[encoded data removed]",
            "text/plain": [
              "<Figure size 432x288 with 1 Axes>"
            ]
          },
          "metadata": {
            "tags": []
          }
        }
      ]
    },
    {
      "cell_type": "code",
      "metadata": {
        "id": "foVVI8dAqZ6P",
        "colab_type": "code",
        "colab": {}
      },
      "source": [
        "X_train = X\n",
        "y_train = y"
      ],
      "execution_count": 0,
      "outputs": []
    },
    {
      "cell_type": "code",
      "metadata": {
        "id": "SxrqTWpJqomo",
        "colab_type": "code",
        "outputId": "0a4cfe56-bc7b-4ee6-f292-a9c7e3099530",
        "colab": {
          "base_uri": "https://localhost:8080/",
          "height": 156
        }
      },
      "source": [
        "svm = SVM()\n",
        "\n",
        "svm.fit(X_train, y_train)"
      ],
      "execution_count": 0,
      "outputs": [
        {
          "output_type": "stream",
          "text": [
            "     pcost       dcost       gap    pres   dres\n",
            " 0: -1.2400e+00 -2.5400e+00  8e+00  3e+00  2e+00\n",
            " 1: -6.4388e-01 -1.9930e+00  1e+00  4e-16  5e-16\n",
            " 2: -9.6827e-01 -1.0492e+00  8e-02  6e-17  4e-16\n",
            " 3: -9.9962e-01 -1.0005e+00  9e-04  4e-16  2e-16\n",
            " 4: -1.0000e+00 -1.0000e+00  9e-06  2e-16  5e-16\n",
            " 5: -1.0000e+00 -1.0000e+00  9e-08  2e-16  3e-16\n",
            "Optimal solution found.\n"
          ],
          "name": "stdout"
        }
      ]
    },
    {
      "cell_type": "code",
      "metadata": {
        "id": "TTaxNUfprD8-",
        "colab_type": "code",
        "outputId": "edf2cb82-5c10-4744-983c-24afdcccaadc",
        "colab": {
          "base_uri": "https://localhost:8080/",
          "height": 35
        }
      },
      "source": [
        "svm.a"
      ],
      "execution_count": 0,
      "outputs": [
        {
          "output_type": "execute_result",
          "data": {
            "text/plain": [
              "array([0.49999999, 0.49999999, 1.00000001])"
            ]
          },
          "metadata": {
            "tags": []
          },
          "execution_count": 48
        }
      ]
    },
    {
      "cell_type": "code",
      "metadata": {
        "id": "LBmhugk_rD_Y",
        "colab_type": "code",
        "outputId": "7f0186f9-6a0f-443e-b171-05dd3df725bb",
        "colab": {
          "base_uri": "https://localhost:8080/",
          "height": 283
        }
      },
      "source": [
        "plt.scatter(X_train[:, 0], X_train[:, 1], c=y_train, cmap='winter')\n",
        "\n",
        "# w.x + b = 0\n",
        "a0 = -1; a1 = f(a0, svm.w, svm.b)\n",
        "b0 = 1; b1 = f(b0, svm.w, svm.b)\n",
        "plt.plot([a0,b0], [a1,b1], 'k')\n",
        "\n",
        "# w.x + b = 1\n",
        "a0 = -1; a1 = f(a0, svm.w, svm.b, 1)\n",
        "b0 = 1; b1 = f(b0, svm.w, svm.b, 1)\n",
        "plt.plot([a0,b0], [a1,b1], 'k--')\n",
        "\n",
        "# w.x + b = -1\n",
        "a0 = -1; a1 = f(a0, svm.w, svm.b, -1)\n",
        "b0 = 1; b1 = f(b0, svm.w, svm.b, -1)\n",
        "plt.plot([a0,b0], [a1,b1], 'k--')"
      ],
      "execution_count": 0,
      "outputs": [
        {
          "output_type": "execute_result",
          "data": {
            "text/plain": [
              "[<matplotlib.lines.Line2D at 0x7fe79d549400>]"
            ]
          },
          "metadata": {
            "tags": []
          },
          "execution_count": 49
        },
        {
          "output_type": "display_data",
          "data": {
            "image/png": "[encoded data removed]",
            "text/plain": [
              "<Figure size 432x288 with 1 Axes>"
            ]
          },
          "metadata": {
            "tags": []
          }
        }
      ]
    },
    {
      "cell_type": "code",
      "metadata": {
        "id": "t0I8IhsPrECM",
        "colab_type": "code",
        "colab": {}
      },
      "source": [
        ""
      ],
      "execution_count": 0,
      "outputs": []
    },
    {
      "cell_type": "code",
      "metadata": {
        "id": "31l69JZcrD6j",
        "colab_type": "code",
        "colab": {}
      },
      "source": [
        ""
      ],
      "execution_count": 0,
      "outputs": []
    }
  ]
}